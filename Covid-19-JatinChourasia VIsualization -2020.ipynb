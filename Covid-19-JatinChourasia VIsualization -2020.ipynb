{
 "cells": [
  {
   "cell_type": "code",
   "execution_count": 452,
   "metadata": {},
   "outputs": [],
   "source": [
    "import pandas as pd\n",
    "import matplotlib.pyplot as plt"
   ]
  },
  {
   "cell_type": "code",
   "execution_count": 2,
   "metadata": {},
   "outputs": [
    {
     "data": {
      "text/plain": [
       "'C:\\\\Users\\\\jatin'"
      ]
     },
     "execution_count": 2,
     "metadata": {},
     "output_type": "execute_result"
    }
   ],
   "source": [
    "pwd"
   ]
  },
  {
   "cell_type": "code",
   "execution_count": 3,
   "metadata": {},
   "outputs": [],
   "source": [
    "df=pd.read_csv(\"covid19.csv\")"
   ]
  },
  {
   "cell_type": "code",
   "execution_count": 4,
   "metadata": {},
   "outputs": [],
   "source": [
    "df = pd.read_csv(\"covid19.csv\")"
   ]
  },
  {
   "cell_type": "code",
   "execution_count": 4,
   "metadata": {},
   "outputs": [
    {
     "data": {
      "text/html": [
       "<div>\n",
       "<style scoped>\n",
       "    .dataframe tbody tr th:only-of-type {\n",
       "        vertical-align: middle;\n",
       "    }\n",
       "\n",
       "    .dataframe tbody tr th {\n",
       "        vertical-align: top;\n",
       "    }\n",
       "\n",
       "    .dataframe thead th {\n",
       "        text-align: right;\n",
       "    }\n",
       "</style>\n",
       "<table border=\"1\" class=\"dataframe\">\n",
       "  <thead>\n",
       "    <tr style=\"text-align: right;\">\n",
       "      <th></th>\n",
       "      <th>id</th>\n",
       "      <th>government_id</th>\n",
       "      <th>diagnosed_date</th>\n",
       "      <th>age</th>\n",
       "      <th>gender</th>\n",
       "      <th>detected_city</th>\n",
       "      <th>detected_district</th>\n",
       "      <th>detected_state</th>\n",
       "      <th>nationality</th>\n",
       "      <th>current_status</th>\n",
       "      <th>status_change_date</th>\n",
       "      <th>notes</th>\n",
       "    </tr>\n",
       "  </thead>\n",
       "  <tbody>\n",
       "    <tr>\n",
       "      <td>0</td>\n",
       "      <td>0</td>\n",
       "      <td>KL-TS-P1</td>\n",
       "      <td>30/01/2020</td>\n",
       "      <td>20</td>\n",
       "      <td>F</td>\n",
       "      <td>Thrissur</td>\n",
       "      <td>Thrissur</td>\n",
       "      <td>Kerala</td>\n",
       "      <td>India</td>\n",
       "      <td>Recovered</td>\n",
       "      <td>14/02/2020</td>\n",
       "      <td>Travelled from Wuhan</td>\n",
       "    </tr>\n",
       "    <tr>\n",
       "      <td>1</td>\n",
       "      <td>1</td>\n",
       "      <td>KL-AL-P1</td>\n",
       "      <td>02/02/2020</td>\n",
       "      <td>NaN</td>\n",
       "      <td>NaN</td>\n",
       "      <td>Alappuzha</td>\n",
       "      <td>Alappuzha</td>\n",
       "      <td>Kerala</td>\n",
       "      <td>India</td>\n",
       "      <td>Recovered</td>\n",
       "      <td>14/02/2020</td>\n",
       "      <td>Travelled from Wuhan</td>\n",
       "    </tr>\n",
       "    <tr>\n",
       "      <td>2</td>\n",
       "      <td>2</td>\n",
       "      <td>KL-KS-P1</td>\n",
       "      <td>03/02/2020</td>\n",
       "      <td>NaN</td>\n",
       "      <td>NaN</td>\n",
       "      <td>Kasaragod</td>\n",
       "      <td>Kasaragod</td>\n",
       "      <td>Kerala</td>\n",
       "      <td>India</td>\n",
       "      <td>Recovered</td>\n",
       "      <td>14/02/2020</td>\n",
       "      <td>Travelled from Wuhan</td>\n",
       "    </tr>\n",
       "    <tr>\n",
       "      <td>3</td>\n",
       "      <td>3</td>\n",
       "      <td>DL-P1</td>\n",
       "      <td>02/03/2020</td>\n",
       "      <td>45</td>\n",
       "      <td>M</td>\n",
       "      <td>East Delhi (Mayur Vihar)</td>\n",
       "      <td>East Delhi</td>\n",
       "      <td>Delhi</td>\n",
       "      <td>India</td>\n",
       "      <td>Recovered</td>\n",
       "      <td>15/03/2020</td>\n",
       "      <td>Travelled from Austria, Italy</td>\n",
       "    </tr>\n",
       "    <tr>\n",
       "      <td>4</td>\n",
       "      <td>4</td>\n",
       "      <td>TS-P1</td>\n",
       "      <td>02/03/2020</td>\n",
       "      <td>24</td>\n",
       "      <td>M</td>\n",
       "      <td>Hyderabad</td>\n",
       "      <td>Hyderabad</td>\n",
       "      <td>Telangana</td>\n",
       "      <td>India</td>\n",
       "      <td>Recovered</td>\n",
       "      <td>02/03/2020</td>\n",
       "      <td>NaN</td>\n",
       "    </tr>\n",
       "    <tr>\n",
       "      <td>...</td>\n",
       "      <td>...</td>\n",
       "      <td>...</td>\n",
       "      <td>...</td>\n",
       "      <td>...</td>\n",
       "      <td>...</td>\n",
       "      <td>...</td>\n",
       "      <td>...</td>\n",
       "      <td>...</td>\n",
       "      <td>...</td>\n",
       "      <td>...</td>\n",
       "      <td>...</td>\n",
       "      <td>...</td>\n",
       "    </tr>\n",
       "    <tr>\n",
       "      <td>1299</td>\n",
       "      <td>1299</td>\n",
       "      <td>NaN</td>\n",
       "      <td>29/03/2020</td>\n",
       "      <td>NaN</td>\n",
       "      <td>NaN</td>\n",
       "      <td>NaN</td>\n",
       "      <td>NaN</td>\n",
       "      <td>NaN</td>\n",
       "      <td>NaN</td>\n",
       "      <td>NaN</td>\n",
       "      <td>NaN</td>\n",
       "      <td>NaN</td>\n",
       "    </tr>\n",
       "    <tr>\n",
       "      <td>1300</td>\n",
       "      <td>1300</td>\n",
       "      <td>NaN</td>\n",
       "      <td>29/03/2020</td>\n",
       "      <td>NaN</td>\n",
       "      <td>NaN</td>\n",
       "      <td>NaN</td>\n",
       "      <td>NaN</td>\n",
       "      <td>NaN</td>\n",
       "      <td>NaN</td>\n",
       "      <td>NaN</td>\n",
       "      <td>NaN</td>\n",
       "      <td>NaN</td>\n",
       "    </tr>\n",
       "    <tr>\n",
       "      <td>1301</td>\n",
       "      <td>1301</td>\n",
       "      <td>NaN</td>\n",
       "      <td>29/03/2020</td>\n",
       "      <td>NaN</td>\n",
       "      <td>NaN</td>\n",
       "      <td>NaN</td>\n",
       "      <td>NaN</td>\n",
       "      <td>NaN</td>\n",
       "      <td>NaN</td>\n",
       "      <td>NaN</td>\n",
       "      <td>NaN</td>\n",
       "      <td>NaN</td>\n",
       "    </tr>\n",
       "    <tr>\n",
       "      <td>1302</td>\n",
       "      <td>1302</td>\n",
       "      <td>NaN</td>\n",
       "      <td>29/03/2020</td>\n",
       "      <td>NaN</td>\n",
       "      <td>NaN</td>\n",
       "      <td>NaN</td>\n",
       "      <td>NaN</td>\n",
       "      <td>NaN</td>\n",
       "      <td>NaN</td>\n",
       "      <td>NaN</td>\n",
       "      <td>NaN</td>\n",
       "      <td>NaN</td>\n",
       "    </tr>\n",
       "    <tr>\n",
       "      <td>1303</td>\n",
       "      <td>1303</td>\n",
       "      <td>NaN</td>\n",
       "      <td>29/03/2020</td>\n",
       "      <td>NaN</td>\n",
       "      <td>NaN</td>\n",
       "      <td>NaN</td>\n",
       "      <td>NaN</td>\n",
       "      <td>NaN</td>\n",
       "      <td>NaN</td>\n",
       "      <td>NaN</td>\n",
       "      <td>NaN</td>\n",
       "      <td>NaN</td>\n",
       "    </tr>\n",
       "  </tbody>\n",
       "</table>\n",
       "<p>1304 rows × 12 columns</p>\n",
       "</div>"
      ],
      "text/plain": [
       "        id government_id diagnosed_date  age gender             detected_city  \\\n",
       "0        0      KL-TS-P1     30/01/2020   20      F                  Thrissur   \n",
       "1        1      KL-AL-P1     02/02/2020  NaN    NaN                 Alappuzha   \n",
       "2        2      KL-KS-P1     03/02/2020  NaN    NaN                 Kasaragod   \n",
       "3        3         DL-P1     02/03/2020   45      M  East Delhi (Mayur Vihar)   \n",
       "4        4         TS-P1     02/03/2020   24      M                 Hyderabad   \n",
       "...    ...           ...            ...  ...    ...                       ...   \n",
       "1299  1299           NaN     29/03/2020  NaN    NaN                       NaN   \n",
       "1300  1300           NaN     29/03/2020  NaN    NaN                       NaN   \n",
       "1301  1301           NaN     29/03/2020  NaN    NaN                       NaN   \n",
       "1302  1302           NaN     29/03/2020  NaN    NaN                       NaN   \n",
       "1303  1303           NaN     29/03/2020  NaN    NaN                       NaN   \n",
       "\n",
       "     detected_district detected_state nationality current_status  \\\n",
       "0             Thrissur         Kerala       India      Recovered   \n",
       "1            Alappuzha         Kerala       India      Recovered   \n",
       "2            Kasaragod         Kerala       India      Recovered   \n",
       "3           East Delhi          Delhi       India      Recovered   \n",
       "4            Hyderabad      Telangana       India      Recovered   \n",
       "...                ...            ...         ...            ...   \n",
       "1299               NaN            NaN         NaN            NaN   \n",
       "1300               NaN            NaN         NaN            NaN   \n",
       "1301               NaN            NaN         NaN            NaN   \n",
       "1302               NaN            NaN         NaN            NaN   \n",
       "1303               NaN            NaN         NaN            NaN   \n",
       "\n",
       "     status_change_date                          notes  \n",
       "0            14/02/2020           Travelled from Wuhan  \n",
       "1            14/02/2020           Travelled from Wuhan  \n",
       "2            14/02/2020           Travelled from Wuhan  \n",
       "3            15/03/2020  Travelled from Austria, Italy  \n",
       "4            02/03/2020                            NaN  \n",
       "...                 ...                            ...  \n",
       "1299                NaN                            NaN  \n",
       "1300                NaN                            NaN  \n",
       "1301                NaN                            NaN  \n",
       "1302                NaN                            NaN  \n",
       "1303                NaN                            NaN  \n",
       "\n",
       "[1304 rows x 12 columns]"
      ]
     },
     "execution_count": 4,
     "metadata": {},
     "output_type": "execute_result"
    }
   ],
   "source": [
    "df"
   ]
  },
  {
   "cell_type": "code",
   "execution_count": 6,
   "metadata": {},
   "outputs": [
    {
     "data": {
      "text/html": [
       "<div>\n",
       "<style scoped>\n",
       "    .dataframe tbody tr th:only-of-type {\n",
       "        vertical-align: middle;\n",
       "    }\n",
       "\n",
       "    .dataframe tbody tr th {\n",
       "        vertical-align: top;\n",
       "    }\n",
       "\n",
       "    .dataframe thead th {\n",
       "        text-align: right;\n",
       "    }\n",
       "</style>\n",
       "<table border=\"1\" class=\"dataframe\">\n",
       "  <thead>\n",
       "    <tr style=\"text-align: right;\">\n",
       "      <th></th>\n",
       "      <th>id</th>\n",
       "      <th>government_id</th>\n",
       "      <th>diagnosed_date</th>\n",
       "      <th>age</th>\n",
       "      <th>gender</th>\n",
       "      <th>detected_city</th>\n",
       "      <th>detected_district</th>\n",
       "      <th>detected_state</th>\n",
       "      <th>nationality</th>\n",
       "      <th>current_status</th>\n",
       "      <th>status_change_date</th>\n",
       "      <th>notes</th>\n",
       "    </tr>\n",
       "  </thead>\n",
       "  <tbody>\n",
       "    <tr>\n",
       "      <td>0</td>\n",
       "      <td>0</td>\n",
       "      <td>KL-TS-P1</td>\n",
       "      <td>30/01/2020</td>\n",
       "      <td>20</td>\n",
       "      <td>F</td>\n",
       "      <td>Thrissur</td>\n",
       "      <td>Thrissur</td>\n",
       "      <td>Kerala</td>\n",
       "      <td>India</td>\n",
       "      <td>Recovered</td>\n",
       "      <td>14/02/2020</td>\n",
       "      <td>Travelled from Wuhan</td>\n",
       "    </tr>\n",
       "    <tr>\n",
       "      <td>1</td>\n",
       "      <td>1</td>\n",
       "      <td>KL-AL-P1</td>\n",
       "      <td>02/02/2020</td>\n",
       "      <td>NaN</td>\n",
       "      <td>NaN</td>\n",
       "      <td>Alappuzha</td>\n",
       "      <td>Alappuzha</td>\n",
       "      <td>Kerala</td>\n",
       "      <td>India</td>\n",
       "      <td>Recovered</td>\n",
       "      <td>14/02/2020</td>\n",
       "      <td>Travelled from Wuhan</td>\n",
       "    </tr>\n",
       "    <tr>\n",
       "      <td>2</td>\n",
       "      <td>2</td>\n",
       "      <td>KL-KS-P1</td>\n",
       "      <td>03/02/2020</td>\n",
       "      <td>NaN</td>\n",
       "      <td>NaN</td>\n",
       "      <td>Kasaragod</td>\n",
       "      <td>Kasaragod</td>\n",
       "      <td>Kerala</td>\n",
       "      <td>India</td>\n",
       "      <td>Recovered</td>\n",
       "      <td>14/02/2020</td>\n",
       "      <td>Travelled from Wuhan</td>\n",
       "    </tr>\n",
       "    <tr>\n",
       "      <td>3</td>\n",
       "      <td>3</td>\n",
       "      <td>DL-P1</td>\n",
       "      <td>02/03/2020</td>\n",
       "      <td>45</td>\n",
       "      <td>M</td>\n",
       "      <td>East Delhi (Mayur Vihar)</td>\n",
       "      <td>East Delhi</td>\n",
       "      <td>Delhi</td>\n",
       "      <td>India</td>\n",
       "      <td>Recovered</td>\n",
       "      <td>15/03/2020</td>\n",
       "      <td>Travelled from Austria, Italy</td>\n",
       "    </tr>\n",
       "    <tr>\n",
       "      <td>4</td>\n",
       "      <td>4</td>\n",
       "      <td>TS-P1</td>\n",
       "      <td>02/03/2020</td>\n",
       "      <td>24</td>\n",
       "      <td>M</td>\n",
       "      <td>Hyderabad</td>\n",
       "      <td>Hyderabad</td>\n",
       "      <td>Telangana</td>\n",
       "      <td>India</td>\n",
       "      <td>Recovered</td>\n",
       "      <td>02/03/2020</td>\n",
       "      <td>NaN</td>\n",
       "    </tr>\n",
       "  </tbody>\n",
       "</table>\n",
       "</div>"
      ],
      "text/plain": [
       "   id government_id diagnosed_date  age gender             detected_city  \\\n",
       "0   0      KL-TS-P1     30/01/2020   20      F                  Thrissur   \n",
       "1   1      KL-AL-P1     02/02/2020  NaN    NaN                 Alappuzha   \n",
       "2   2      KL-KS-P1     03/02/2020  NaN    NaN                 Kasaragod   \n",
       "3   3         DL-P1     02/03/2020   45      M  East Delhi (Mayur Vihar)   \n",
       "4   4         TS-P1     02/03/2020   24      M                 Hyderabad   \n",
       "\n",
       "  detected_district detected_state nationality current_status  \\\n",
       "0          Thrissur         Kerala       India      Recovered   \n",
       "1         Alappuzha         Kerala       India      Recovered   \n",
       "2         Kasaragod         Kerala       India      Recovered   \n",
       "3        East Delhi          Delhi       India      Recovered   \n",
       "4         Hyderabad      Telangana       India      Recovered   \n",
       "\n",
       "  status_change_date                          notes  \n",
       "0         14/02/2020           Travelled from Wuhan  \n",
       "1         14/02/2020           Travelled from Wuhan  \n",
       "2         14/02/2020           Travelled from Wuhan  \n",
       "3         15/03/2020  Travelled from Austria, Italy  \n",
       "4         02/03/2020                            NaN  "
      ]
     },
     "execution_count": 6,
     "metadata": {},
     "output_type": "execute_result"
    }
   ],
   "source": [
    "df.head()"
   ]
  },
  {
   "cell_type": "code",
   "execution_count": 481,
   "metadata": {},
   "outputs": [
    {
     "name": "stdout",
     "output_type": "stream",
     "text": [
      "<class 'pandas.core.frame.DataFrame'>\n",
      "Int64Index: 216 entries, 0 to 1082\n",
      "Data columns (total 12 columns):\n",
      "id                    216 non-null int64\n",
      "government_id         92 non-null object\n",
      "diagnosed_date        216 non-null object\n",
      "age                   216 non-null object\n",
      "gender                216 non-null object\n",
      "detected_city         201 non-null object\n",
      "detected_district     212 non-null object\n",
      "detected_state        216 non-null object\n",
      "nationality           216 non-null object\n",
      "current_status        216 non-null object\n",
      "status_change_date    216 non-null object\n",
      "notes                 214 non-null object\n",
      "dtypes: int64(1), object(11)\n",
      "memory usage: 31.9+ KB\n"
     ]
    }
   ],
   "source": [
    "df.info()"
   ]
  },
  {
   "cell_type": "code",
   "execution_count": 485,
   "metadata": {},
   "outputs": [
    {
     "data": {
      "text/plain": [
       "0                                  Travelled from Wuhan\n",
       "3                         Travelled from Austria, Italy\n",
       "4                                                   NaN\n",
       "5                                  Travelled from Italy\n",
       "20                     Travelled from Italy, Wife of P6\n",
       "28                     Travelled from Italy PayTm Emp, \n",
       "29                                  Travelled from Iran\n",
       "31                                  Travelled from Iran\n",
       "32                                                  NaN\n",
       "33    Travelled from Oman to Chennai Airport on 28.0...\n",
       "34      Travelled from Italy on 29/02/2020 through Doha\n",
       "35      Travelled from Italy on 29/02/2020 through Doha\n",
       "36      Travelled from Italy on 29/02/2020 through Doha\n",
       "37                    Relative and neighbour of P35-P37\n",
       "38                   Relative  and neighbour of P35-P37\n",
       "39                                    No travel history\n",
       "40                                  Travelled from Iran\n",
       "42    Travelled from Italy on 07/03/2020 (Parents in...\n",
       "46    Factory Manager contact with businessman from ...\n",
       "50           Travelled from US on Feb 28, Dell Employee\n",
       "Name: notes, dtype: object"
      ]
     },
     "execution_count": 485,
     "metadata": {},
     "output_type": "execute_result"
    }
   ],
   "source": [
    "df.notes.head(20)"
   ]
  },
  {
   "cell_type": "code",
   "execution_count": 14,
   "metadata": {},
   "outputs": [
    {
     "data": {
      "text/plain": [
       "0       F\n",
       "3       M\n",
       "4       M\n",
       "5       M\n",
       "20      F\n",
       "       ..\n",
       "1078    F\n",
       "1079    M\n",
       "1080    M\n",
       "1081    M\n",
       "1082    M\n",
       "Name: gender, Length: 448, dtype: object"
      ]
     },
     "execution_count": 14,
     "metadata": {},
     "output_type": "execute_result"
    }
   ],
   "source": [
    "df.gender"
   ]
  },
  {
   "cell_type": "code",
   "execution_count": 248,
   "metadata": {},
   "outputs": [
    {
     "data": {
      "text/html": [
       "<div>\n",
       "<style scoped>\n",
       "    .dataframe tbody tr th:only-of-type {\n",
       "        vertical-align: middle;\n",
       "    }\n",
       "\n",
       "    .dataframe tbody tr th {\n",
       "        vertical-align: top;\n",
       "    }\n",
       "\n",
       "    .dataframe thead th {\n",
       "        text-align: right;\n",
       "    }\n",
       "</style>\n",
       "<table border=\"1\" class=\"dataframe\">\n",
       "  <thead>\n",
       "    <tr style=\"text-align: right;\">\n",
       "      <th></th>\n",
       "      <th>id</th>\n",
       "      <th>government_id</th>\n",
       "      <th>diagnosed_date</th>\n",
       "      <th>age</th>\n",
       "      <th>gender</th>\n",
       "      <th>detected_city</th>\n",
       "      <th>detected_district</th>\n",
       "      <th>detected_state</th>\n",
       "      <th>nationality</th>\n",
       "      <th>current_status</th>\n",
       "      <th>status_change_date</th>\n",
       "      <th>notes</th>\n",
       "    </tr>\n",
       "  </thead>\n",
       "  <tbody>\n",
       "    <tr>\n",
       "      <td>1077</td>\n",
       "      <td>1077</td>\n",
       "      <td>TN-P45</td>\n",
       "      <td>29/03/2020</td>\n",
       "      <td>1</td>\n",
       "      <td>M</td>\n",
       "      <td>NaN</td>\n",
       "      <td>Coimbatore</td>\n",
       "      <td>Tamil Nadu</td>\n",
       "      <td>Indian</td>\n",
       "      <td>Hospitalized</td>\n",
       "      <td>29/03/2020</td>\n",
       "      <td>Contact of TN-P43</td>\n",
       "    </tr>\n",
       "    <tr>\n",
       "      <td>696</td>\n",
       "      <td>696</td>\n",
       "      <td>NaN</td>\n",
       "      <td>26/03/2020</td>\n",
       "      <td>1</td>\n",
       "      <td>M</td>\n",
       "      <td>Natipora</td>\n",
       "      <td>Srinagar</td>\n",
       "      <td>Jammu and Kashmir</td>\n",
       "      <td>India</td>\n",
       "      <td>Hospitalized</td>\n",
       "      <td>26/03/2020</td>\n",
       "      <td>Siblings (7 years old and 8 months old)- grand...</td>\n",
       "    </tr>\n",
       "    <tr>\n",
       "      <td>753</td>\n",
       "      <td>753</td>\n",
       "      <td>KA-P56</td>\n",
       "      <td>27/03/2020</td>\n",
       "      <td>1</td>\n",
       "      <td>M</td>\n",
       "      <td>Bantwal</td>\n",
       "      <td>Dakshina Kannada</td>\n",
       "      <td>Karnataka</td>\n",
       "      <td>NaN</td>\n",
       "      <td>Hospitalized</td>\n",
       "      <td>27/03/2020</td>\n",
       "      <td>No travel history. Child was taken to Kerala.</td>\n",
       "    </tr>\n",
       "    <tr>\n",
       "      <td>866</td>\n",
       "      <td>866</td>\n",
       "      <td>NaN</td>\n",
       "      <td>27/03/2020</td>\n",
       "      <td>1</td>\n",
       "      <td>F</td>\n",
       "      <td>NaN</td>\n",
       "      <td>Nadia</td>\n",
       "      <td>West Bengal</td>\n",
       "      <td>NaN</td>\n",
       "      <td>Hospitalized</td>\n",
       "      <td>27/03/2020</td>\n",
       "      <td>Family, History of contact to a positive case ...</td>\n",
       "    </tr>\n",
       "    <tr>\n",
       "      <td>862</td>\n",
       "      <td>862</td>\n",
       "      <td>NaN</td>\n",
       "      <td>27/03/2020</td>\n",
       "      <td>11</td>\n",
       "      <td>M</td>\n",
       "      <td>NaN</td>\n",
       "      <td>Nadia</td>\n",
       "      <td>West Bengal</td>\n",
       "      <td>NaN</td>\n",
       "      <td>Hospitalized</td>\n",
       "      <td>27/03/2020</td>\n",
       "      <td>Family, History of contact to a positive case ...</td>\n",
       "    </tr>\n",
       "    <tr>\n",
       "      <td>...</td>\n",
       "      <td>...</td>\n",
       "      <td>...</td>\n",
       "      <td>...</td>\n",
       "      <td>...</td>\n",
       "      <td>...</td>\n",
       "      <td>...</td>\n",
       "      <td>...</td>\n",
       "      <td>...</td>\n",
       "      <td>...</td>\n",
       "      <td>...</td>\n",
       "      <td>...</td>\n",
       "      <td>...</td>\n",
       "    </tr>\n",
       "    <tr>\n",
       "      <td>429</td>\n",
       "      <td>429</td>\n",
       "      <td>NaN</td>\n",
       "      <td>23/03/2020</td>\n",
       "      <td>85</td>\n",
       "      <td>F</td>\n",
       "      <td>Ahmedabad</td>\n",
       "      <td>Ahmedabad</td>\n",
       "      <td>Gujarat</td>\n",
       "      <td>NaN</td>\n",
       "      <td>Deceased</td>\n",
       "      <td>25/03/2020</td>\n",
       "      <td>Travelled from Saudi Arabia. She was suffering...</td>\n",
       "    </tr>\n",
       "    <tr>\n",
       "      <td>62</td>\n",
       "      <td>62</td>\n",
       "      <td>NaN</td>\n",
       "      <td>10/03/2020</td>\n",
       "      <td>85</td>\n",
       "      <td>M</td>\n",
       "      <td>Jaipur</td>\n",
       "      <td>Jaipur</td>\n",
       "      <td>Rajasthan</td>\n",
       "      <td>India</td>\n",
       "      <td>Recovered</td>\n",
       "      <td>10/03/2020</td>\n",
       "      <td>Travelled from Dubai</td>\n",
       "    </tr>\n",
       "    <tr>\n",
       "      <td>56</td>\n",
       "      <td>56</td>\n",
       "      <td>KL-PT-P6</td>\n",
       "      <td>10/03/2020</td>\n",
       "      <td>89</td>\n",
       "      <td>F</td>\n",
       "      <td>Ranni</td>\n",
       "      <td>Pathanamthitta</td>\n",
       "      <td>Kerala</td>\n",
       "      <td>India</td>\n",
       "      <td>Hospitalized</td>\n",
       "      <td>10/03/2020</td>\n",
       "      <td>Mother of P36</td>\n",
       "    </tr>\n",
       "    <tr>\n",
       "      <td>635</td>\n",
       "      <td>635</td>\n",
       "      <td>KA-P49</td>\n",
       "      <td>25/03/2020</td>\n",
       "      <td>9</td>\n",
       "      <td>F</td>\n",
       "      <td>Bengaluru</td>\n",
       "      <td>Bengaluru</td>\n",
       "      <td>Karnataka</td>\n",
       "      <td>NaN</td>\n",
       "      <td>Hospitalized</td>\n",
       "      <td>25/03/2020</td>\n",
       "      <td>Daughter of P297, KA-P17</td>\n",
       "    </tr>\n",
       "    <tr>\n",
       "      <td>55</td>\n",
       "      <td>55</td>\n",
       "      <td>KL-PT-P5</td>\n",
       "      <td>10/03/2020</td>\n",
       "      <td>96</td>\n",
       "      <td>M</td>\n",
       "      <td>Ranni</td>\n",
       "      <td>Pathanamthitta</td>\n",
       "      <td>Kerala</td>\n",
       "      <td>India</td>\n",
       "      <td>Hospitalized</td>\n",
       "      <td>10/03/2020</td>\n",
       "      <td>Father of P36</td>\n",
       "    </tr>\n",
       "  </tbody>\n",
       "</table>\n",
       "<p>448 rows × 12 columns</p>\n",
       "</div>"
      ],
      "text/plain": [
       "        id government_id diagnosed_date age gender detected_city  \\\n",
       "1077  1077        TN-P45     29/03/2020   1      M           NaN   \n",
       "696    696           NaN     26/03/2020   1      M      Natipora   \n",
       "753    753        KA-P56     27/03/2020   1      M       Bantwal   \n",
       "866    866           NaN     27/03/2020   1      F           NaN   \n",
       "862    862           NaN     27/03/2020  11      M           NaN   \n",
       "...    ...           ...            ...  ..    ...           ...   \n",
       "429    429           NaN     23/03/2020  85      F     Ahmedabad   \n",
       "62      62           NaN     10/03/2020  85      M        Jaipur   \n",
       "56      56      KL-PT-P6     10/03/2020  89      F         Ranni   \n",
       "635    635        KA-P49     25/03/2020   9      F     Bengaluru   \n",
       "55      55      KL-PT-P5     10/03/2020  96      M         Ranni   \n",
       "\n",
       "     detected_district     detected_state nationality current_status  \\\n",
       "1077        Coimbatore         Tamil Nadu      Indian   Hospitalized   \n",
       "696           Srinagar  Jammu and Kashmir       India   Hospitalized   \n",
       "753   Dakshina Kannada          Karnataka         NaN   Hospitalized   \n",
       "866              Nadia        West Bengal         NaN   Hospitalized   \n",
       "862              Nadia        West Bengal         NaN   Hospitalized   \n",
       "...                ...                ...         ...            ...   \n",
       "429          Ahmedabad            Gujarat         NaN       Deceased   \n",
       "62              Jaipur          Rajasthan       India      Recovered   \n",
       "56      Pathanamthitta             Kerala       India   Hospitalized   \n",
       "635          Bengaluru          Karnataka         NaN   Hospitalized   \n",
       "55      Pathanamthitta             Kerala       India   Hospitalized   \n",
       "\n",
       "     status_change_date                                              notes  \n",
       "1077         29/03/2020                                  Contact of TN-P43  \n",
       "696          26/03/2020  Siblings (7 years old and 8 months old)- grand...  \n",
       "753          27/03/2020     No travel history. Child was taken to Kerala.   \n",
       "866          27/03/2020  Family, History of contact to a positive case ...  \n",
       "862          27/03/2020  Family, History of contact to a positive case ...  \n",
       "...                 ...                                                ...  \n",
       "429          25/03/2020  Travelled from Saudi Arabia. She was suffering...  \n",
       "62           10/03/2020                               Travelled from Dubai  \n",
       "56           10/03/2020                                      Mother of P36  \n",
       "635          25/03/2020                           Daughter of P297, KA-P17  \n",
       "55           10/03/2020                                      Father of P36  \n",
       "\n",
       "[448 rows x 12 columns]"
      ]
     },
     "execution_count": 248,
     "metadata": {},
     "output_type": "execute_result"
    }
   ],
   "source": [
    "df.sort_values(by=['age'])"
   ]
  },
  {
   "cell_type": "code",
   "execution_count": 11,
   "metadata": {},
   "outputs": [
    {
     "data": {
      "text/plain": [
       "0           Kerala\n",
       "3            Delhi\n",
       "4        Telangana\n",
       "5        Rajasthan\n",
       "20       Rajasthan\n",
       "           ...    \n",
       "1078    Tamil Nadu\n",
       "1079    Tamil Nadu\n",
       "1080    Tamil Nadu\n",
       "1081    Tamil Nadu\n",
       "1082    Tamil Nadu\n",
       "Name: detected_state, Length: 448, dtype: object"
      ]
     },
     "execution_count": 11,
     "metadata": {},
     "output_type": "execute_result"
    }
   ],
   "source": [
    "df.detected_state"
   ]
  },
  {
   "cell_type": "code",
   "execution_count": 491,
   "metadata": {},
   "outputs": [
    {
     "data": {
      "text/plain": [
       "'1'"
      ]
     },
     "execution_count": 491,
     "metadata": {},
     "output_type": "execute_result"
    }
   ],
   "source": [
    "df.age.min()"
   ]
  },
  {
   "cell_type": "code",
   "execution_count": 441,
   "metadata": {},
   "outputs": [],
   "source": [
    "df.dropna(subset = [\"gender\",\"age\",\"detected_state\",\"nationality\"], inplace=True)"
   ]
  },
  {
   "cell_type": "code",
   "execution_count": 267,
   "metadata": {},
   "outputs": [
    {
     "data": {
      "text/plain": [
       "<bound method DataFrame.sort_values of         id government_id diagnosed_date age gender             detected_city  \\\n",
       "0        0      KL-TS-P1     30/01/2020  20      F                  Thrissur   \n",
       "3        3         DL-P1     02/03/2020  45      M  East Delhi (Mayur Vihar)   \n",
       "4        4         TS-P1     02/03/2020  24      M                 Hyderabad   \n",
       "5        5           NaN     03/03/2020  69      M                    Jaipur   \n",
       "20      20           NaN     04/03/2020  70      F                    Jaipur   \n",
       "...    ...           ...            ...  ..    ...                       ...   \n",
       "1078  1078        TN-P46     29/03/2020  51      F                       NaN   \n",
       "1079  1079        TN-P47     29/03/2020  45      M                Perundurai   \n",
       "1080  1080        TN-P48     29/03/2020  48      M                Perundurai   \n",
       "1081  1081        TN-P49     29/03/2020  67      M                Perundurai   \n",
       "1082  1082        TN-P50     29/03/2020  62      M                Perundurai   \n",
       "\n",
       "     detected_district detected_state nationality current_status  \\\n",
       "0             Thrissur         Kerala       India      Recovered   \n",
       "3           East Delhi          Delhi       India      Recovered   \n",
       "4            Hyderabad      Telangana       India      Recovered   \n",
       "5               Jaipur      Rajasthan       Italy      Recovered   \n",
       "20              Jaipur      Rajasthan       Italy      Recovered   \n",
       "...                ...            ...         ...            ...   \n",
       "1078        Coimbatore     Tamil Nadu      Indian   Hospitalized   \n",
       "1079             Erode     Tamil Nadu      Indian   Hospitalized   \n",
       "1080             Erode     Tamil Nadu      Indian   Hospitalized   \n",
       "1081             Erode     Tamil Nadu      Indian   Hospitalized   \n",
       "1082             Erode     Tamil Nadu      Indian   Hospitalized   \n",
       "\n",
       "     status_change_date                             notes  \n",
       "0            14/02/2020              Travelled from Wuhan  \n",
       "3            15/03/2020     Travelled from Austria, Italy  \n",
       "4            02/03/2020                               NaN  \n",
       "5            03/03/2020              Travelled from Italy  \n",
       "20           04/03/2020  Travelled from Italy, Wife of P6  \n",
       "...                 ...                               ...  \n",
       "1078         29/03/2020                 Contact of TN-P43  \n",
       "1079         29/03/2020              Travelled from Delhi  \n",
       "1080         29/03/2020              Travelled from Delhi  \n",
       "1081         29/03/2020              Travelled from Delhi  \n",
       "1082         29/03/2020              Travelled from Delhi  \n",
       "\n",
       "[448 rows x 12 columns]>"
      ]
     },
     "execution_count": 267,
     "metadata": {},
     "output_type": "execute_result"
    }
   ],
   "source": [
    "df.sort_values"
   ]
  },
  {
   "cell_type": "code",
   "execution_count": 492,
   "metadata": {},
   "outputs": [
    {
     "ename": "AttributeError",
     "evalue": "'DataFrame' object has no attribute 'summary'",
     "output_type": "error",
     "traceback": [
      "\u001b[1;31m---------------------------------------------------------------------------\u001b[0m",
      "\u001b[1;31mAttributeError\u001b[0m                            Traceback (most recent call last)",
      "\u001b[1;32m<ipython-input-492-759307761548>\u001b[0m in \u001b[0;36m<module>\u001b[1;34m\u001b[0m\n\u001b[1;32m----> 1\u001b[1;33m \u001b[0mdf\u001b[0m\u001b[1;33m.\u001b[0m\u001b[0msummary\u001b[0m\u001b[1;33m(\u001b[0m\u001b[1;33m)\u001b[0m\u001b[1;33m\u001b[0m\u001b[1;33m\u001b[0m\u001b[0m\n\u001b[0m",
      "\u001b[1;32mE:\\Anaconda3\\lib\\site-packages\\pandas\\core\\generic.py\u001b[0m in \u001b[0;36m__getattr__\u001b[1;34m(self, name)\u001b[0m\n\u001b[0;32m   5177\u001b[0m             \u001b[1;32mif\u001b[0m \u001b[0mself\u001b[0m\u001b[1;33m.\u001b[0m\u001b[0m_info_axis\u001b[0m\u001b[1;33m.\u001b[0m\u001b[0m_can_hold_identifiers_and_holds_name\u001b[0m\u001b[1;33m(\u001b[0m\u001b[0mname\u001b[0m\u001b[1;33m)\u001b[0m\u001b[1;33m:\u001b[0m\u001b[1;33m\u001b[0m\u001b[1;33m\u001b[0m\u001b[0m\n\u001b[0;32m   5178\u001b[0m                 \u001b[1;32mreturn\u001b[0m \u001b[0mself\u001b[0m\u001b[1;33m[\u001b[0m\u001b[0mname\u001b[0m\u001b[1;33m]\u001b[0m\u001b[1;33m\u001b[0m\u001b[1;33m\u001b[0m\u001b[0m\n\u001b[1;32m-> 5179\u001b[1;33m             \u001b[1;32mreturn\u001b[0m \u001b[0mobject\u001b[0m\u001b[1;33m.\u001b[0m\u001b[0m__getattribute__\u001b[0m\u001b[1;33m(\u001b[0m\u001b[0mself\u001b[0m\u001b[1;33m,\u001b[0m \u001b[0mname\u001b[0m\u001b[1;33m)\u001b[0m\u001b[1;33m\u001b[0m\u001b[1;33m\u001b[0m\u001b[0m\n\u001b[0m\u001b[0;32m   5180\u001b[0m \u001b[1;33m\u001b[0m\u001b[0m\n\u001b[0;32m   5181\u001b[0m     \u001b[1;32mdef\u001b[0m \u001b[0m__setattr__\u001b[0m\u001b[1;33m(\u001b[0m\u001b[0mself\u001b[0m\u001b[1;33m,\u001b[0m \u001b[0mname\u001b[0m\u001b[1;33m,\u001b[0m \u001b[0mvalue\u001b[0m\u001b[1;33m)\u001b[0m\u001b[1;33m:\u001b[0m\u001b[1;33m\u001b[0m\u001b[1;33m\u001b[0m\u001b[0m\n",
      "\u001b[1;31mAttributeError\u001b[0m: 'DataFrame' object has no attribute 'summary'"
     ]
    }
   ],
   "source": [
    "df.summary()"
   ]
  },
  {
   "cell_type": "code",
   "execution_count": 467,
   "metadata": {},
   "outputs": [
    {
     "data": {
      "image/png": "[encoded data removed]",
      "text/plain": [
       "<Figure size 720x720 with 1 Axes>"
      ]
     },
     "metadata": {},
     "output_type": "display_data"
    }
   ],
   "source": [
    "import matplotlib.pyplot as plt\n",
    "import numpy as np\n",
    "import pandas as pd\n",
    "\n",
    "\n",
    "plt.figure(figsize=(10,10))\n",
    "\n",
    "explode=(0,0.1,0.5)\n",
    "df['current_status'].value_counts().plot.pie(autopct = \"%1.2f\",shadow=True,startangle=280,explode=explode)\n",
    "\n",
    "plt.title(\"PATIENT STATUS\")\n",
    "plt.show()\n"
   ]
  },
  {
   "cell_type": "code",
   "execution_count": 414,
   "metadata": {},
   "outputs": [
    {
     "data": {
      "text/plain": [
       "Text(0, 0.5, 'No. of patient')"
      ]
     },
     "execution_count": 414,
     "metadata": {},
     "output_type": "execute_result"
    },
    {
     "data": {
      "image/png": "[encoded data removed]",
      "text/plain": [
       "<Figure size 1800x720 with 1 Axes>"
      ]
     },
     "metadata": {
      "needs_background": "light"
     },
     "output_type": "display_data"
    }
   ],
   "source": [
    "import matplotlib.pyplot as plt\n",
    "import numpy as np\n",
    "import pandas as pd\n",
    "\n",
    "plt.figure(figsize=(25,10))\n",
    "\n",
    "df['age'].value_counts().plot(kind='bar')\n",
    "\n",
    "plt.title(\"No. of patient affected w.r.t Age group with COVID-19 in India dated 04-April-2020\")\n",
    "plt.xlabel(\"Age Groups\")\n",
    "plt.ylabel(\"No. of patient\")\n",
    "\n"
   ]
  },
  {
   "cell_type": "code",
   "execution_count": 449,
   "metadata": {
    "scrolled": true
   },
   "outputs": [
    {
     "data": {
      "image/png": "[encoded data removed]",
      "text/plain": [
       "<Figure size 360x360 with 1 Axes>"
      ]
     },
     "metadata": {
      "needs_background": "light"
     },
     "output_type": "display_data"
    }
   ],
   "source": [
    "import matplotlib.pyplot as plt\n",
    "import numpy as np\n",
    "import pandas as pd\n",
    "\n",
    "\n",
    "plt.figure(figsize=(5,5))\n",
    "color=[\"Red\",\"blue\"]\n",
    "plt.scatter(df.gender,df.nationality);\n",
    "plt.xlabel(\"GENDER\")\n",
    "plt.ylabel(\"NATIONALITY\")\n",
    "plt.title(\"GENDER FREQUENCY W.R.T NATIONALITY\");\n"
   ]
  },
  {
   "cell_type": "code",
   "execution_count": 450,
   "metadata": {},
   "outputs": [
    {
     "data": {
      "text/plain": [
       "Text(0.5, 1.0, 'PATIENTS W.R.T NATIONALITY')"
      ]
     },
     "execution_count": 450,
     "metadata": {},
     "output_type": "execute_result"
    },
    {
     "data": {
      "image/png": "[encoded data removed]",
      "text/plain": [
       "<Figure size 1440x720 with 1 Axes>"
      ]
     },
     "metadata": {
      "needs_background": "light"
     },
     "output_type": "display_data"
    }
   ],
   "source": [
    "import matplotlib.pyplot as plt\n",
    "\n",
    "plt.figure(figsize=(20,10))\n",
    "df['nationality'].value_counts().plot(kind='bar')\n",
    "\n",
    "plt.xlabel(\"PATIENT WITH NATIONALITY\")\n",
    "plt.ylabel(\"NO. OF PATIENTS\")\n",
    "plt.title(\"PATIENTS W.R.T NATIONALITY\")"
   ]
  },
  {
   "cell_type": "code",
   "execution_count": 473,
   "metadata": {},
   "outputs": [
    {
     "data": {
      "image/png": "[encoded data removed]",
      "text/plain": [
       "<Figure size 3600x1440 with 1 Axes>"
      ]
     },
     "metadata": {
      "needs_background": "light"
     },
     "output_type": "display_data"
    }
   ],
   "source": [
    "import seaborn as sns\n",
    "plt.figure(figsize=(50,20))\n",
    "\n",
    "sns.countplot(df.detected_state)\n",
    "\n",
    "\n",
    "plt.xlabel(\"State of Patient\")\n",
    "plt.ylabel(\"No. of Patient\")\n",
    "plt.title(\"PATIENT W.R.T STATES\");\n",
    "\n"
   ]
  },
  {
   "cell_type": "code",
   "execution_count": null,
   "metadata": {},
   "outputs": [],
   "source": []
  }
 ],
 "metadata": {
  "kernelspec": {
   "display_name": "Python 3",
   "language": "python",
   "name": "python3"
  },
  "language_info": {
   "codemirror_mode": {
    "name": "ipython",
    "version": 3
   },
   "file_extension": ".py",
   "mimetype": "text/x-python",
   "name": "python",
   "nbconvert_exporter": "python",
   "pygments_lexer": "ipython3",
   "version": "3.7.4"
  }
 },
 "nbformat": 4,
 "nbformat_minor": 2
}
